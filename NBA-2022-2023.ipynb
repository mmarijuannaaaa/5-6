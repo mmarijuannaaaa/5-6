{
 "cells": [
  {
   "cell_type": "code",
   "execution_count": 24,
   "id": "5fcd7470",
   "metadata": {},
   "outputs": [],
   "source": [
    "import pandas as pd\n",
    "import numpy as np\n",
    "import matplotlib.pyplot as plt\n",
    "from sklearn.model_selection import train_test_split\n",
    "from sklearn.linear_model import LinearRegression\n",
    "from sklearn.metrics import mean_squared_error, r2_score\n"
   ]
  },
  {
   "cell_type": "code",
   "execution_count": 3,
   "id": "a08b7c96",
   "metadata": {},
   "outputs": [],
   "source": [
    "df = pd.read_csv('nba_2022_2023.csv')"
   ]
  },
  {
   "cell_type": "code",
   "execution_count": 9,
   "id": "ee2f33c5",
   "metadata": {},
   "outputs": [],
   "source": [
    "#PTS = Points Per Game, AST = Assists Per Game\n",
    "X = df[['PTS']].values\n",
    "y = df['AST'].values\n",
    "# ინფორმაციის დაყოფა ტესტირების ნაკრებად\n",
    "X_train, X_test, y_train, y_test = train_test_split(X, y, test_size=0.2, random_state=0)\n",
    "# სატესტო მოდელი\n",
    "model.fit(X_train, y_train)\n",
    "#წინასწარი პროგნოზი ტესტირების მონაცემების გამოყენებით\n",
    "y_pred = model.predict(X_test)\n",
    "#ეფექტურობის გამოთვლა\n",
    "mse = mean_squared_error(y_test, y_pred)\n",
    "r2 = r2_score(y_test, y_pred)"
   ]
  },
  {
   "cell_type": "code",
   "execution_count": 11,
   "id": "7db1839c",
   "metadata": {},
   "outputs": [],
   "source": [
    "#PTS = Points Per Game, AST = Assists Per Game, BLK = Blocks per game, MP: Minutes played per game\n",
    "feature_columns = ['AST', 'PTS', 'BLK']  \n",
    "target_column = 'MP'  \n",
    "X = df[feature_columns].values\n",
    "y = df[target_column].values\n",
    "#ნფორმაციის დაყოფა ტესტირების ნაკრებად\n",
    "X_train, X_test, y_train, y_test = train_test_split(X, y, test_size=0.2, random_state=0)\n",
    "# სატესტო მოდელი\n",
    "model.fit(X_train, y_train)\n",
    "#წინასწარი პროგნოზი ტესტირების მონაცემების გამოყენებით\n",
    "y_pred = model.predict(X_test)\n",
    "#ეფექტურობის გამოთვლა\n",
    "mse = mean_squared_error(y_test, y_pred)\n",
    "r2 = r2_score(y_test, y_pred)"
   ]
  },
  {
   "cell_type": "code",
   "execution_count": 20,
   "id": "765be038",
   "metadata": {},
   "outputs": [
    {
     "ename": "NameError",
     "evalue": "name 'DecisionTreeRegressor' is not defined",
     "output_type": "error",
     "traceback": [
      "\u001b[0;31m---------------------------------------------------------------------------\u001b[0m",
      "\u001b[0;31mNameError\u001b[0m                                 Traceback (most recent call last)",
      "Cell \u001b[0;32mIn[20], line 7\u001b[0m\n\u001b[1;32m      5\u001b[0m X_train, X_test, y_train, y_test \u001b[38;5;241m=\u001b[39m train_test_split(X, y, test_size\u001b[38;5;241m=\u001b[39m\u001b[38;5;241m0.2\u001b[39m, random_state\u001b[38;5;241m=\u001b[39m\u001b[38;5;241m0\u001b[39m)\n\u001b[1;32m      6\u001b[0m \u001b[38;5;66;03m# შექმენით გადაწყვეტილების ხის რეგრესიის მოდელი\u001b[39;00m\n\u001b[0;32m----> 7\u001b[0m model \u001b[38;5;241m=\u001b[39m DecisionTreeRegressor(random_state\u001b[38;5;241m=\u001b[39m\u001b[38;5;241m0\u001b[39m)\n\u001b[1;32m      8\u001b[0m \u001b[38;5;66;03m#სატესტო მოდელი\u001b[39;00m\n\u001b[1;32m      9\u001b[0m model\u001b[38;5;241m.\u001b[39mfit(X_train, y_train)\n",
      "\u001b[0;31mNameError\u001b[0m: name 'DecisionTreeRegressor' is not defined"
     ]
    }
   ],
   "source": [
    "#PTS = Points Per Game, AST = Assists Per Game\n",
    "X = df[['PTS']].values\n",
    "y = df['AST'].values\n",
    "#ნფორმაციის დაყოფა ტესტირების ნაკრებად\n",
    "X_train, X_test, y_train, y_test = train_test_split(X, y, test_size=0.2, random_state=0)\n",
    "#გადაწყვეტილების ხის რეგრესიის მოდელი\n",
    "model = DecisionTreeRegressor(random_state=0)\n",
    "#სატესტო მოდელი\n",
    "model.fit(X_train, y_train)\n",
    "#წინასწარი პროგნოზი ტესტირების მონაცემების გამოყენებით\n",
    "y_pred = model.predict(X_test)\n",
    "#ეფექტურობის გამოთვლა\n",
    "mse = mean_squared_error(y_test, y_pred)\n",
    "r2 = r2_score(y_test, y_pred)"
   ]
  },
  {
   "cell_type": "code",
   "execution_count": null,
   "id": "fb94c14a",
   "metadata": {},
   "outputs": [],
   "source": []
  },
  {
   "cell_type": "code",
   "execution_count": 22,
   "id": "a31a8836",
   "metadata": {},
   "outputs": [
    {
     "ename": "NameError",
     "evalue": "name 'LogisticRegression' is not defined",
     "output_type": "error",
     "traceback": [
      "\u001b[0;31m---------------------------------------------------------------------------\u001b[0m",
      "\u001b[0;31mNameError\u001b[0m                                 Traceback (most recent call last)",
      "Cell \u001b[0;32mIn[22], line 8\u001b[0m\n\u001b[1;32m      5\u001b[0m X_train, X_test, y_train, y_test \u001b[38;5;241m=\u001b[39m train_test_split(X, y, test_size\u001b[38;5;241m=\u001b[39m\u001b[38;5;241m0.2\u001b[39m, random_state\u001b[38;5;241m=\u001b[39m\u001b[38;5;241m42\u001b[39m)\n\u001b[1;32m      7\u001b[0m \u001b[38;5;66;03m# სატესტო მოდელი\u001b[39;00m\n\u001b[0;32m----> 8\u001b[0m logistic_model \u001b[38;5;241m=\u001b[39m LogisticRegression()\n\u001b[1;32m      9\u001b[0m logistic_model\u001b[38;5;241m.\u001b[39mfit(X_train, y_train)\n\u001b[1;32m     11\u001b[0m \u001b[38;5;66;03m# წინასწარმეტყველება\u001b[39;00m\n",
      "\u001b[0;31mNameError\u001b[0m: name 'LogisticRegression' is not defined"
     ]
    }
   ],
   "source": [
    "#PTS = Points Per Game, AST = Assists Per Game\n",
    "X = df[['PTS']].values\n",
    "y = df['AST'].values\n",
    "# ინფორმაციის დაყოფა ტესტირების ნაკრებად\n",
    "X_train, X_test, y_train, y_test = train_test_split(X, y, test_size=0.2, random_state=0)\n",
    "\n",
    "# სატესტო მოდელი\n",
    "logistic_model = LogisticRegression()\n",
    "logistic_model.fit(X_train, y_train)\n",
    "\n",
    "# წინასწარმეტყველება\n",
    "y_pred = logistic_model.predict(X_test)\n",
    "\n",
    "# ეფექტურობის გამოთვლა\n",
    "accuracy = accuracy_score(y_test, y_pred)\n",
    "conf_matrix = confusion_matrix(y_test, y_pred)\n",
    "class_report = classification_report(y_test, y_pred)\n",
    "class_report = classification_report(y_test, y_pred, output_dict=True)\n",
    "\n",
    "# მატრიცა\n",
    "conf_matrix_df = pd.DataFrame(conf_matrix, index=['Actual: 0', 'Actual: 1'], columns=['Predicted: 0', 'Predicted: 1'])\n",
    "print(\"Confusion Matrix:\")\n",
    "print(conf_matrix_df)\n",
    "\n",
    "# კლასიფიკაციის რეპორტი\n",
    "class_report_df = pd.DataFrame(class_report).transpose()\n",
    "print(\"\\nClassification Report:\")\n",
    "print(tabulate(class_report_df, headers='keys', tablefmt='pretty'))\n",
    "\n",
    "# სიზუსტე\n",
    "print(\"\\nAccuracy:\")\n",
    "print(accuracy)"
   ]
  },
  {
   "cell_type": "code",
   "execution_count": null,
   "id": "f3053ad6",
   "metadata": {},
   "outputs": [],
   "source": []
  }
 ],
 "metadata": {
  "kernelspec": {
   "display_name": "Python 3 (ipykernel)",
   "language": "python",
   "name": "python3"
  },
  "language_info": {
   "codemirror_mode": {
    "name": "ipython",
    "version": 3
   },
   "file_extension": ".py",
   "mimetype": "text/x-python",
   "name": "python",
   "nbconvert_exporter": "python",
   "pygments_lexer": "ipython3",
   "version": "3.11.7"
  }
 },
 "nbformat": 4,
 "nbformat_minor": 5
}
